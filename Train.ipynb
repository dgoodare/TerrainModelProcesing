{
 "cells": [
  {
   "cell_type": "code",
   "execution_count": null,
   "metadata": {},
   "outputs": [],
   "source": [
    "import torch\n",
    "import torch.nn as nn\n",
    "import torch.optim as optim  # package implementing various optimisation algorithms\n",
    "import torchvision\n",
    "from torch.optim import lr_scheduler  # provides methods for adjusting the learning rate\n",
    "from torch.utils.data import DataLoader  # module for iterating over a dataset\n",
    "from torch.utils.tensorboard import SummaryWriter\n",
    "from torchvision import datasets, models, transforms"
   ]
  },
  {
   "cell_type": "code",
   "execution_count": null,
   "metadata": {},
   "outputs": [],
   "source": [
    "import DatasetManager\n",
    "from DEMDataset import DEMDataset\n",
    "from Models import Discriminator, Generator"
   ]
  },
  {
   "cell_type": "code",
   "execution_count": null,
   "metadata": {},
   "outputs": [],
   "source": [
    "import numpy as np\n",
    "import matplotlib.pyplot as plt\n",
    "import time\n",
    "import os\n",
    "import copy\n",
    "import random"
   ]
  },
  {
   "cell_type": "code",
   "execution_count": null,
   "metadata": {},
   "outputs": [],
   "source": [
    "def reverse_mask(x):\n",
    "    \"\"\"A function to reverse an image mask\"\"\"\n",
    "    return 1-x"
   ]
  },
  {
   "cell_type": "code",
   "execution_count": null,
   "metadata": {},
   "outputs": [],
   "source": [
    "def discriminator_loss(x, y):\n",
    "    \"\"\"\n",
    "    Wasserstein loss function\n",
    "    :param x: real\n",
    "    :param y: fake\n",
    "    :return:\n",
    "    \"\"\"\n",
    "    return -(torch.mean(x) - torch.mean(y))"
   ]
  },
  {
   "cell_type": "code",
   "execution_count": null,
   "metadata": {},
   "outputs": [],
   "source": [
    "def generator_loss(x, y, disc_loss):\n",
    "    \"\"\"\n",
    "    Loss function for generator network\n",
    "    :param x: real\n",
    "    :param y: fake\n",
    "    :param disc_loss: the inverse of the loss of the discriminator\n",
    "    :return:\n",
    "    \"\"\"\n",
    "    # TODO: define a proper loss function\n",
    "    input_mask = x[:, :, :, 3:]\n",
    "    reversedMask = reverse_mask(input_mask)\n",
    "    inputImg = x[:, :, :, 0:3]\n",
    "    outputImg = y[:, :, :, 0:3]\n",
    "    return disc_loss"
   ]
  },
  {
   "cell_type": "markdown",
   "metadata": {},
   "source": [
    "Define Hyper-parameters"
   ]
  },
  {
   "cell_type": "code",
   "execution_count": null,
   "metadata": {},
   "outputs": [],
   "source": [
    "device = torch.device(\"cuda\" if torch.cuda.is_available() else \"cpu\")\n",
    "Learning_rate = 5e-5\n",
    "Batch_size = 8\n",
    "Img_Size = DatasetManager.img_size\n",
    "Img_channels = 3\n",
    "Z_dim = 100\n",
    "Num_epochs = 1\n",
    "Features_disc = 64\n",
    "Features_gen = 64\n",
    "Disc_iters = 5\n",
    "Weight_clip = 0.01  # check what this is too\n",
    "beta1 = 0.9\n",
    "beta2 = 0.999\n",
    "epsilon = 1e-08"
   ]
  },
  {
   "cell_type": "markdown",
   "metadata": {},
   "source": [
    "transformations applied to datasets"
   ]
  },
  {
   "cell_type": "code",
   "execution_count": null,
   "metadata": {},
   "outputs": [],
   "source": [
    "transforms = transforms.Compose(\n",
    "    [\n",
    "        transforms.ToTensor(),\n",
    "        # transforms.Normalize() - TODO: check with Iain if there are upper and lower limits for DEMs\n",
    "    ]\n",
    ")"
   ]
  },
  {
   "cell_type": "markdown",
   "metadata": {},
   "source": [
    "load the dataset"
   ]
  },
  {
   "cell_type": "code",
   "execution_count": null,
   "metadata": {},
   "outputs": [],
   "source": [
    "dataset = DEMDataset('lookUpTable.csv', rootDir='LookUp', transform=transforms)\n",
    "Dataset_size = dataset.__len__()\n",
    "print(\"Dataset loaded...\")\n",
    "print(f\"Dataset size: {Dataset_size}\")\n",
    "# split into training and testing sets with an 80/20 ratio\n",
    "# trainingSet, testingSet = torch.utils.data.random_split(dataset, [int(Dataset_size*8/10), int(Dataset_size*2/10)])\n",
    "print(\"Dataset split...\")\n",
    "# create dataloaders for each set\n",
    "# TODO: look into multi-processing\n",
    "trainingLoader = DataLoader(dataset=dataset, batch_size=Batch_size, shuffle=True)\n",
    "print(\"training loader created...\")\n",
    "# testingLoader = DataLoader(dataset=testingSet, batch_size=Batch_size, shuffle=True)\n",
    "print(\"testing loader created...\")"
   ]
  },
  {
   "cell_type": "markdown",
   "metadata": {},
   "source": [
    "Initialise the two networks"
   ]
  },
  {
   "cell_type": "code",
   "execution_count": null,
   "metadata": {},
   "outputs": [],
   "source": [
    "gen = Generator(Z=Z_dim, imgChannels=Img_channels, features=Features_gen).to(device)\n",
    "print(\"generator initialised...\")\n",
    "disc = Discriminator(imgChannels=Img_channels, features=Features_disc).to(device)\n",
    "print(\"discriminator initialised...\")\n",
    "# initialise weights"
   ]
  },
  {
   "cell_type": "markdown",
   "metadata": {},
   "source": [
    "Optimiser Functions"
   ]
  },
  {
   "cell_type": "code",
   "execution_count": null,
   "metadata": {},
   "outputs": [],
   "source": [
    "opt_gen = optim.Adam(params=gen.parameters(),\n",
    "                     lr=Learning_rate,\n",
    "                     betas=(beta1, beta2),\n",
    "                     eps=epsilon)\n",
    "opt_disc = optim.Adam(params=disc.parameters(),\n",
    "                      lr=Learning_rate,\n",
    "                      betas=(beta1, beta2),\n",
    "                      eps=epsilon)\n",
    "print(\"optimisers defined...\")"
   ]
  },
  {
   "cell_type": "markdown",
   "metadata": {},
   "source": [
    "Define random noise to being training with"
   ]
  },
  {
   "cell_type": "code",
   "execution_count": null,
   "metadata": {},
   "outputs": [],
   "source": [
    "fixed_noise = torch.randn(32, Z_dim, 1, 1).to(device)"
   ]
  },
  {
   "cell_type": "markdown",
   "metadata": {},
   "source": [
    "Data Visualisation stuff"
   ]
  },
  {
   "cell_type": "code",
   "execution_count": null,
   "metadata": {},
   "outputs": [],
   "source": [
    "writer_real = SummaryWriter(f\"logs/real\")\n",
    "writer_fake = SummaryWriter(f\"logs/fake\")\n",
    "print(\"Summary writers created...\")"
   ]
  },
  {
   "cell_type": "code",
   "execution_count": null,
   "metadata": {},
   "outputs": [],
   "source": [
    "step = 0\n",
    "gen.train()\n",
    "disc.train()\n",
    "print(\"ready to train...\")"
   ]
  },
  {
   "cell_type": "code",
   "execution_count": null,
   "metadata": {},
   "outputs": [],
   "source": [
    "for epoch in range(Num_epochs):\n",
    "    for batch_idx, sample in enumerate(trainingLoader):\n",
    "        print(\n",
    "            f\"========================================= \\n\"\n",
    "            f\"Batch index: {batch_idx}\"\n",
    "        )\n",
    "        # retrieve ground truth and corresponding mask\n",
    "        real = sample[0].to(device)\n",
    "        mask = sample[1].to(device)\n",
    "\n",
    "        # train discriminator\n",
    "        for _ in range(Disc_iters):\n",
    "            noise = torch.randn((Batch_size, Z_dim, 1, 1)).to(device)\n",
    "            generatedDEM = gen(x=noise)\n",
    "\n",
    "            # apply the reverse mask operation to the generated DEM to create the fake patch\n",
    "            fakePatch = torch.multiply(generatedDEM, reverse_mask(mask))\n",
    "            # apply the mask to the real DEM to create the data void\n",
    "            maskedDEM = torch.multiply(real, mask)\n",
    "\n",
    "            # combine the fake patch with the masked DEM\n",
    "            fake = torch.add(maskedDEM, fakePatch)\n",
    "\n",
    "            # send real and fake DEMs to the discriminator\n",
    "            disc_real = disc(real)\n",
    "            disc_fake = disc(fake)\n",
    "            loss_disc = discriminator_loss(disc_real, disc_fake)\n",
    "            disc.zero_grad()\n",
    "            loss_disc.backward(retain_graph=True)\n",
    "            opt_disc.step()\n",
    "            for p in disc.parameters():\n",
    "                p.data.clamp_(-Weight_clip, Weight_clip)\n",
    "\n",
    "        # train generator\n",
    "        output = disc(fake).reshape(-1)\n",
    "        loss_gen = generator_loss(real, fake, -torch.mean(output))\n",
    "        gen.zero_grad()\n",
    "        loss_gen.backward()\n",
    "        opt_gen.step()\n",
    "\n",
    "        # display results at specified intervals\n",
    "        # if batch_idx % 100 == 0:\n",
    "        print(\n",
    "             f\"|| Epoch [{epoch}/{Num_epochs}] -- Batch [{batch_idx}/{len(trainingLoader)}] \\n\"\n",
    "             f\"|| Loss D: {loss_disc:.4f}, loss G: {loss_gen:.4f}\"\n",
    "         )\n",
    "        with torch.no_grad():\n",
    "            fake = gen(fixed_noise)\n",
    "            # pick up to 32 examples\n",
    "            img_grid_real = torchvision.utils.make_grid(real[:32], normalize=True)\n",
    "            img_grid_fake = torchvision.utils.make_grid(fake[:32], normalize=True)\n",
    "            writer_real.add_image(\"Real\", img_grid_real, global_step=step)\n",
    "            writer_fake.add_image(\"Fake\", img_grid_fake, global_step=step)\n",
    "        step += 1"
   ]
  }
 ],
 "metadata": {
  "kernelspec": {
   "display_name": "Python 3 (ipykernel)",
   "language": "python",
   "name": "python3"
  },
  "language_info": {
   "codemirror_mode": {
    "name": "ipython",
    "version": 3
   },
   "file_extension": ".py",
   "mimetype": "text/x-python",
   "name": "python",
   "nbconvert_exporter": "python",
   "pygments_lexer": "ipython3",
   "version": "3.6.4"
  }
 },
 "nbformat": 4,
 "nbformat_minor": 2
}
